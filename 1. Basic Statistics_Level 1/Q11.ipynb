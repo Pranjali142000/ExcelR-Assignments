{
 "cells": [
  {
   "cell_type": "code",
   "execution_count": 1,
   "id": "bcfce030",
   "metadata": {},
   "outputs": [],
   "source": [
    "import pandas as pd\n",
    "import numpy as np\n",
    "from scipy import stats\n",
    "from math import sqrt\n"
   ]
  },
  {
   "cell_type": "code",
   "execution_count": 3,
   "id": "4174a366",
   "metadata": {},
   "outputs": [
    {
     "name": "stdout",
     "output_type": "stream",
     "text": [
      "Weight at 94% confidence interval is: [198.7383 201.2617]\n"
     ]
    }
   ],
   "source": [
    "ci_94 = stats.norm.interval(0.94, 200, scale = (30/sqrt(2000)))\n",
    "print(\"Weight at 94% confidence interval is:\", np.round(ci_94, 4))"
   ]
  },
  {
   "cell_type": "code",
   "execution_count": 4,
   "id": "689b3691",
   "metadata": {},
   "outputs": [
    {
     "name": "stdout",
     "output_type": "stream",
     "text": [
      "Weight at 98% confidence interval is: [198.4394 201.5606]\n"
     ]
    }
   ],
   "source": [
    "ci_98 = stats.norm.interval(0.98, 200, scale = (30/sqrt(2000)))\n",
    "print(\"Weight at 98% confidence interval is:\", np.round(ci_98, 4))"
   ]
  },
  {
   "cell_type": "code",
   "execution_count": 5,
   "id": "5a9e0a40",
   "metadata": {},
   "outputs": [
    {
     "name": "stdout",
     "output_type": "stream",
     "text": [
      "Weight at 98% confidence interval is: [198.4394 201.5606]\n"
     ]
    }
   ],
   "source": [
    "ci_98 = stats.norm.interval(0.98, 200, scale = (30/sqrt(2000)))\n",
    "print(\"Weight at 98% confidence interval is:\", np.round(ci_98, 4))"
   ]
  },
  {
   "cell_type": "code",
   "execution_count": null,
   "id": "c854c62e",
   "metadata": {},
   "outputs": [],
   "source": []
  }
 ],
 "metadata": {
  "kernelspec": {
   "display_name": "Python 3 (ipykernel)",
   "language": "python",
   "name": "python3"
  },
  "language_info": {
   "codemirror_mode": {
    "name": "ipython",
    "version": 3
   },
   "file_extension": ".py",
   "mimetype": "text/x-python",
   "name": "python",
   "nbconvert_exporter": "python",
   "pygments_lexer": "ipython3",
   "version": "3.9.13"
  }
 },
 "nbformat": 4,
 "nbformat_minor": 5
}
